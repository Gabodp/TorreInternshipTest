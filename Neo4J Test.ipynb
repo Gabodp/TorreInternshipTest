{
 "cells": [
  {
   "cell_type": "code",
   "execution_count": 19,
   "id": "3d2581af",
   "metadata": {},
   "outputs": [],
   "source": [
    "from py2neo import Graph\n",
    "from py2neo import Node"
   ]
  },
  {
   "cell_type": "code",
   "execution_count": 20,
   "id": "d2d0c270",
   "metadata": {},
   "outputs": [],
   "source": [
    "graph = Graph(\"bolt://localhost:7687\", auth=('neo4j', 'password'))\n",
    "graph.delete_all()\n"
   ]
  },
  {
   "cell_type": "code",
   "execution_count": 21,
   "id": "0d5aa739",
   "metadata": {},
   "outputs": [],
   "source": [
    "nicole = Node(\"Person\", name=\"Nicole\", age=24)\n",
    "drew = Node(\"Person\", name=\"Drew\", age=20)\n",
    "\n",
    "mtdew = Node(\"Drink\", name=\"Mountain Dew\", calories=9000)\n",
    "cokezero = Node(\"Drink\", name=\"Coke Zero\", calories=0)\n",
    "\n",
    "coke = Node(\"Manufacturer\", name=\"Coca Cola\")\n",
    "pepsi = Node(\"Manufacturer\", name=\"Pepsi\")\n"
   ]
  },
  {
   "cell_type": "code",
   "execution_count": 22,
   "id": "7699ca02",
   "metadata": {},
   "outputs": [],
   "source": [
    "graph.create(nicole | drew | mtdew | cokezero | coke | pepsi)"
   ]
  },
  {
   "cell_type": "code",
   "execution_count": 23,
   "id": "c20c232a",
   "metadata": {},
   "outputs": [],
   "source": [
    "from py2neo import Relationship\n",
    "\n",
    "graph.create(Relationship(nicole, \"LIKES\", cokezero))\n",
    "graph.create(Relationship(nicole, \"LIKES\", mtdew))\n",
    "graph.create(Relationship(drew, \"LIKES\", mtdew))\n",
    "graph.create(Relationship(coke, \"MAKES\", cokezero))\n",
    "graph.create(Relationship(pepsi, \"MAKES\", mtdew))\n"
   ]
  },
  {
   "cell_type": "code",
   "execution_count": 24,
   "id": "8f1aff15",
   "metadata": {},
   "outputs": [],
   "source": [
    "query = \"\"\"\n",
    "MATCH (person:Person)-[:LIKES]->(drink:Drink)\n",
    "RETURN person.name AS name, drink.name AS drink\n",
    "\"\"\"\n",
    "\n",
    "data = graph.run(query)"
   ]
  },
  {
   "cell_type": "code",
   "execution_count": 25,
   "id": "a6841c5d",
   "metadata": {},
   "outputs": [
    {
     "name": "stdout",
     "output_type": "stream",
     "text": [
      "'Nicole'\t'Coke Zero'\n",
      "'Drew'\t'Mountain Dew'\n",
      "'Nicole'\t'Mountain Dew'\n"
     ]
    }
   ],
   "source": [
    "for d in data:\n",
    "    print(d)"
   ]
  },
  {
   "cell_type": "markdown",
   "id": "501b8181",
   "metadata": {},
   "source": [
    "*Parameterized Cypher*"
   ]
  },
  {
   "cell_type": "code",
   "execution_count": 26,
   "id": "32831ffc",
   "metadata": {},
   "outputs": [
    {
     "name": "stdout",
     "output_type": "stream",
     "text": [
      "'Nicole'\t4500.0\n"
     ]
    }
   ],
   "source": [
    "query = \"\"\"\n",
    "MATCH (p:Person)-[:LIKES]->(drink:Drink)\n",
    "WHERE p.name = $name\n",
    "RETURN p.name AS name, AVG(drink.calories) AS avg_calories\n",
    "\"\"\"\n",
    "\n",
    "data = graph.run(query, name=\"Nicole\")\n",
    "\n",
    "for d in data:\n",
    "    print(d)"
   ]
  }
 ],
 "metadata": {
  "kernelspec": {
   "display_name": "Python 3",
   "language": "python",
   "name": "python3"
  },
  "language_info": {
   "codemirror_mode": {
    "name": "ipython",
    "version": 3
   },
   "file_extension": ".py",
   "mimetype": "text/x-python",
   "name": "python",
   "nbconvert_exporter": "python",
   "pygments_lexer": "ipython3",
   "version": "3.7.2"
  }
 },
 "nbformat": 4,
 "nbformat_minor": 5
}
