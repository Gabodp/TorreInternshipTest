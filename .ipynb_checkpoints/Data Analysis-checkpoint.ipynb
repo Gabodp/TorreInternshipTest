{
 "cells": [
  {
   "cell_type": "code",
   "execution_count": 26,
   "id": "20ceb3c9",
   "metadata": {},
   "outputs": [],
   "source": [
    "import pandas as pd"
   ]
  },
  {
   "cell_type": "markdown",
   "id": "4a95cd5b",
   "metadata": {},
   "source": [
    "This notebook is part of the Technical Test for applying to the Data Science Internship Position at Torre. It is mainly focused on retrieving insights from the file \"reed_uk.csv\" by using Data Analysis and a Graph Database (Neo4J). Further work can be done with more time, and better understanding of Cypher Query Language, which resulted really helpful when matching queries."
   ]
  },
  {
   "cell_type": "markdown",
   "id": "6424612d",
   "metadata": {},
   "source": [
    "// Note\n",
    "You must have a running service of Neo4J locally for this notebook to load the csv into nodes and relationships. This process can take from 1 to 2 hours, due to the size of the data (50k rows and 12 columns). Some Nodes contain data from more than one column.\n",
    "In this notebook, I used Neo4J Desktop Client, resulting in 93.815 nodes and 180.531 relationships.\n",
    "There are also some requirements detailed in requirements.txt."
   ]
  },
  {
   "cell_type": "markdown",
   "id": "e1d1913f",
   "metadata": {},
   "source": [
    "# Initial Data Analysis"
   ]
  },
  {
   "cell_type": "code",
   "execution_count": 82,
   "id": "2406c5d0",
   "metadata": {},
   "outputs": [],
   "source": [
    "csv_file_name = \"reed_uk.csv\"\n",
    "df = pd.read_csv(csv_file_name)"
   ]
  },
  {
   "cell_type": "code",
   "execution_count": 4,
   "id": "6e980e01",
   "metadata": {},
   "outputs": [
    {
     "data": {
      "text/html": [
       "<div>\n",
       "<style scoped>\n",
       "    .dataframe tbody tr th:only-of-type {\n",
       "        vertical-align: middle;\n",
       "    }\n",
       "\n",
       "    .dataframe tbody tr th {\n",
       "        vertical-align: top;\n",
       "    }\n",
       "\n",
       "    .dataframe thead th {\n",
       "        text-align: right;\n",
       "    }\n",
       "</style>\n",
       "<table border=\"1\" class=\"dataframe\">\n",
       "  <thead>\n",
       "    <tr style=\"text-align: right;\">\n",
       "      <th></th>\n",
       "      <th>category</th>\n",
       "      <th>city</th>\n",
       "      <th>company_name</th>\n",
       "      <th>geo</th>\n",
       "      <th>job_board</th>\n",
       "      <th>job_description</th>\n",
       "      <th>job_requirements</th>\n",
       "      <th>job_title</th>\n",
       "      <th>job_type</th>\n",
       "      <th>post_date</th>\n",
       "      <th>salary_offered</th>\n",
       "      <th>state</th>\n",
       "    </tr>\n",
       "  </thead>\n",
       "  <tbody>\n",
       "    <tr>\n",
       "      <th>0</th>\n",
       "      <td>catering jobs</td>\n",
       "      <td>Chudleigh</td>\n",
       "      <td>Haulfryn Group</td>\n",
       "      <td>uk</td>\n",
       "      <td>reed</td>\n",
       "      <td>Apply now New opportunity not to be missed! H...</td>\n",
       "      <td>NaN</td>\n",
       "      <td>Commis Chef</td>\n",
       "      <td>Permanent, full-time</td>\n",
       "      <td>3/12/2018</td>\n",
       "      <td>£18,323 per annum</td>\n",
       "      <td>Devon</td>\n",
       "    </tr>\n",
       "    <tr>\n",
       "      <th>1</th>\n",
       "      <td>law jobs</td>\n",
       "      <td>Swindon</td>\n",
       "      <td>Reed</td>\n",
       "      <td>uk</td>\n",
       "      <td>reed</td>\n",
       "      <td>Apply now This role requires an experienced s...</td>\n",
       "      <td>NaN</td>\n",
       "      <td>Corporate Legal Secretary</td>\n",
       "      <td>Permanent, full-time</td>\n",
       "      <td>3/8/2018</td>\n",
       "      <td>£18,000 - £22,000 per annum</td>\n",
       "      <td>Wiltshire</td>\n",
       "    </tr>\n",
       "    <tr>\n",
       "      <th>2</th>\n",
       "      <td>factory jobs</td>\n",
       "      <td>Norfolk</td>\n",
       "      <td>Swanstaff Recruitment Ltd</td>\n",
       "      <td>uk</td>\n",
       "      <td>reed</td>\n",
       "      <td>Apply now Job Title: Warehouse personLocation...</td>\n",
       "      <td>NaN</td>\n",
       "      <td>Warehouse Person</td>\n",
       "      <td>Permanent, full-time</td>\n",
       "      <td>2/27/2018</td>\n",
       "      <td>Salary not specified</td>\n",
       "      <td>East Anglia</td>\n",
       "    </tr>\n",
       "    <tr>\n",
       "      <th>3</th>\n",
       "      <td>law jobs</td>\n",
       "      <td>Hurstpierpoint</td>\n",
       "      <td>Castles Solicitors</td>\n",
       "      <td>uk</td>\n",
       "      <td>reed</td>\n",
       "      <td>Apply now Castles Solicitors are looking for ...</td>\n",
       "      <td>Required skills Admin Case Management Corresp...</td>\n",
       "      <td>Legal Secretary / Admin Assistant</td>\n",
       "      <td>Permanent, full-time or part-time</td>\n",
       "      <td>2/21/2018</td>\n",
       "      <td>£15,000 - £17,000 per annum, pro-rata</td>\n",
       "      <td>West Sussex</td>\n",
       "    </tr>\n",
       "    <tr>\n",
       "      <th>4</th>\n",
       "      <td>factory jobs</td>\n",
       "      <td>Hertfordshire</td>\n",
       "      <td>Marketplace Group</td>\n",
       "      <td>uk</td>\n",
       "      <td>reed</td>\n",
       "      <td>Apply now International Pharmaceutical Manufa...</td>\n",
       "      <td>NaN</td>\n",
       "      <td>Category Planner - Pharmaceutical</td>\n",
       "      <td>Permanent, full-time</td>\n",
       "      <td>3/1/2018</td>\n",
       "      <td>£37,000 - £45,000 per annum</td>\n",
       "      <td>South East England</td>\n",
       "    </tr>\n",
       "    <tr>\n",
       "      <th>5</th>\n",
       "      <td>retail jobs</td>\n",
       "      <td>Belfast</td>\n",
       "      <td>Vodafone</td>\n",
       "      <td>uk</td>\n",
       "      <td>reed</td>\n",
       "      <td>Apply on employer's website Retail Advisor - ...</td>\n",
       "      <td>NaN</td>\n",
       "      <td>Retail Adviser 20hrs/week - Belfast Donnegal P...</td>\n",
       "      <td>Permanent, part-time</td>\n",
       "      <td>3/12/2018</td>\n",
       "      <td>£9,100 - £9,152 per annum, OTE</td>\n",
       "      <td>County Antrim</td>\n",
       "    </tr>\n",
       "    <tr>\n",
       "      <th>6</th>\n",
       "      <td>factory jobs</td>\n",
       "      <td>Thetford</td>\n",
       "      <td>Hales Group Limited</td>\n",
       "      <td>uk</td>\n",
       "      <td>reed</td>\n",
       "      <td>Apply now Break Press Operator - Permanent, Â...</td>\n",
       "      <td>NaN</td>\n",
       "      <td>Break Press Operator</td>\n",
       "      <td>Permanent, full-time</td>\n",
       "      <td>2/28/2018</td>\n",
       "      <td>£9.25 - £10.15 per hour</td>\n",
       "      <td>Norfolk</td>\n",
       "    </tr>\n",
       "    <tr>\n",
       "      <th>7</th>\n",
       "      <td>motoring automotive jobs</td>\n",
       "      <td>Luton</td>\n",
       "      <td>Fine Recruiting Ltd</td>\n",
       "      <td>uk</td>\n",
       "      <td>reed</td>\n",
       "      <td>Apply now An exciting opportunity to start wi...</td>\n",
       "      <td>Required skills Accident Paint Repair Spray P...</td>\n",
       "      <td>Vehicle Paint Sprayer</td>\n",
       "      <td>Permanent, full-time</td>\n",
       "      <td>3/2/2018</td>\n",
       "      <td>£35,000 - £40,000 per annum</td>\n",
       "      <td>Bedfordshire</td>\n",
       "    </tr>\n",
       "    <tr>\n",
       "      <th>8</th>\n",
       "      <td>motoring automotive jobs</td>\n",
       "      <td>Blackburn</td>\n",
       "      <td>Audi</td>\n",
       "      <td>uk</td>\n",
       "      <td>reed</td>\n",
       "      <td>Apply on employer's website This exciting opp...</td>\n",
       "      <td>NaN</td>\n",
       "      <td>Vehicle Technician</td>\n",
       "      <td>Permanent, full-time</td>\n",
       "      <td>2/28/2018</td>\n",
       "      <td>£23,000 - £26,600 per annum</td>\n",
       "      <td>Lancashire</td>\n",
       "    </tr>\n",
       "    <tr>\n",
       "      <th>9</th>\n",
       "      <td>law jobs</td>\n",
       "      <td>Leeds</td>\n",
       "      <td>Rachel Clark Legal Recruitment</td>\n",
       "      <td>uk</td>\n",
       "      <td>reed</td>\n",
       "      <td>Apply now This highly regarded, top law firm ...</td>\n",
       "      <td>Required skills Diary Management Legal Secret...</td>\n",
       "      <td>LEGAL SECRETARY</td>\n",
       "      <td>Permanent, full-time</td>\n",
       "      <td>3/12/2018</td>\n",
       "      <td>£18,000 - £25,000 per annum, inc benefits</td>\n",
       "      <td>West Yorkshire</td>\n",
       "    </tr>\n",
       "    <tr>\n",
       "      <th>10</th>\n",
       "      <td>motoring automotive jobs</td>\n",
       "      <td>Bermuda Park</td>\n",
       "      <td>Keastone Recruitment</td>\n",
       "      <td>uk</td>\n",
       "      <td>reed</td>\n",
       "      <td>Apply now The Opportunity This is a remarkabl...</td>\n",
       "      <td>Required skills Car Dealership Sales Sales Ex...</td>\n",
       "      <td>Sales Executive (Automotive Main Dealer)</td>\n",
       "      <td>Permanent, full-time</td>\n",
       "      <td>3/12/2018</td>\n",
       "      <td>£12,000 - £40,000 per annum, OTE</td>\n",
       "      <td>Warwickshire</td>\n",
       "    </tr>\n",
       "    <tr>\n",
       "      <th>11</th>\n",
       "      <td>law jobs</td>\n",
       "      <td>Leeds</td>\n",
       "      <td>IPS Group</td>\n",
       "      <td>uk</td>\n",
       "      <td>reed</td>\n",
       "      <td>Apply now Talented junior solicitor is requir...</td>\n",
       "      <td>NaN</td>\n",
       "      <td>Commercial Property Solicitor, North Yorks</td>\n",
       "      <td>Permanent, full-time</td>\n",
       "      <td>3/12/2018</td>\n",
       "      <td>£30,000 - £40,000 per annum</td>\n",
       "      <td>West Yorkshire</td>\n",
       "    </tr>\n",
       "    <tr>\n",
       "      <th>12</th>\n",
       "      <td>retail jobs</td>\n",
       "      <td>Stevenage</td>\n",
       "      <td>Matalan</td>\n",
       "      <td>uk</td>\n",
       "      <td>reed</td>\n",
       "      <td>Apply on employer's website About the Role As...</td>\n",
       "      <td>NaN</td>\n",
       "      <td>Assistant Store Manager</td>\n",
       "      <td>Permanent, full-time</td>\n",
       "      <td>3/6/2018</td>\n",
       "      <td>Competitive salary</td>\n",
       "      <td>Hertfordshire</td>\n",
       "    </tr>\n",
       "    <tr>\n",
       "      <th>13</th>\n",
       "      <td>retail jobs</td>\n",
       "      <td>London</td>\n",
       "      <td>New Look Retailers Ltd</td>\n",
       "      <td>uk</td>\n",
       "      <td>reed</td>\n",
       "      <td>Apply on employer's website Every person make...</td>\n",
       "      <td>NaN</td>\n",
       "      <td>Buying, Merchandising &amp; Design Support Assistant</td>\n",
       "      <td>Permanent, full-time</td>\n",
       "      <td>2/28/2018</td>\n",
       "      <td>Competitive salary</td>\n",
       "      <td>South East England</td>\n",
       "    </tr>\n",
       "    <tr>\n",
       "      <th>14</th>\n",
       "      <td>hr jobs</td>\n",
       "      <td>Whitehaven</td>\n",
       "      <td>Civil Nuclear Constabulary</td>\n",
       "      <td>uk</td>\n",
       "      <td>reed</td>\n",
       "      <td>Apply on employer's website Civil Nuclear Con...</td>\n",
       "      <td>NaN</td>\n",
       "      <td>HR Business Partner</td>\n",
       "      <td>Contract, full-time</td>\n",
       "      <td>3/7/2018</td>\n",
       "      <td>£44,000 per annum</td>\n",
       "      <td>Cumbria</td>\n",
       "    </tr>\n",
       "  </tbody>\n",
       "</table>\n",
       "</div>"
      ],
      "text/plain": [
       "                    category            city                     company_name  \\\n",
       "0              catering jobs       Chudleigh                  Haulfryn Group    \n",
       "1                   law jobs         Swindon                            Reed    \n",
       "2               factory jobs         Norfolk       Swanstaff Recruitment Ltd    \n",
       "3                   law jobs  Hurstpierpoint              Castles Solicitors    \n",
       "4               factory jobs   Hertfordshire               Marketplace Group    \n",
       "5                retail jobs         Belfast                        Vodafone    \n",
       "6               factory jobs        Thetford             Hales Group Limited    \n",
       "7   motoring automotive jobs           Luton             Fine Recruiting Ltd    \n",
       "8   motoring automotive jobs       Blackburn                            Audi    \n",
       "9                   law jobs           Leeds  Rachel Clark Legal Recruitment    \n",
       "10  motoring automotive jobs    Bermuda Park            Keastone Recruitment    \n",
       "11                  law jobs           Leeds                       IPS Group    \n",
       "12               retail jobs       Stevenage                         Matalan    \n",
       "13               retail jobs          London          New Look Retailers Ltd    \n",
       "14                   hr jobs      Whitehaven      Civil Nuclear Constabulary    \n",
       "\n",
       "   geo job_board                                    job_description  \\\n",
       "0   uk      reed   Apply now New opportunity not to be missed! H...   \n",
       "1   uk      reed   Apply now This role requires an experienced s...   \n",
       "2   uk      reed   Apply now Job Title: Warehouse personLocation...   \n",
       "3   uk      reed   Apply now Castles Solicitors are looking for ...   \n",
       "4   uk      reed   Apply now International Pharmaceutical Manufa...   \n",
       "5   uk      reed   Apply on employer's website Retail Advisor - ...   \n",
       "6   uk      reed   Apply now Break Press Operator - Permanent, Â...   \n",
       "7   uk      reed   Apply now An exciting opportunity to start wi...   \n",
       "8   uk      reed   Apply on employer's website This exciting opp...   \n",
       "9   uk      reed   Apply now This highly regarded, top law firm ...   \n",
       "10  uk      reed   Apply now The Opportunity This is a remarkabl...   \n",
       "11  uk      reed   Apply now Talented junior solicitor is requir...   \n",
       "12  uk      reed   Apply on employer's website About the Role As...   \n",
       "13  uk      reed   Apply on employer's website Every person make...   \n",
       "14  uk      reed   Apply on employer's website Civil Nuclear Con...   \n",
       "\n",
       "                                     job_requirements  \\\n",
       "0                                                 NaN   \n",
       "1                                                 NaN   \n",
       "2                                                 NaN   \n",
       "3    Required skills Admin Case Management Corresp...   \n",
       "4                                                 NaN   \n",
       "5                                                 NaN   \n",
       "6                                                 NaN   \n",
       "7    Required skills Accident Paint Repair Spray P...   \n",
       "8                                                 NaN   \n",
       "9    Required skills Diary Management Legal Secret...   \n",
       "10   Required skills Car Dealership Sales Sales Ex...   \n",
       "11                                                NaN   \n",
       "12                                                NaN   \n",
       "13                                                NaN   \n",
       "14                                                NaN   \n",
       "\n",
       "                                            job_title  \\\n",
       "0                                         Commis Chef   \n",
       "1                           Corporate Legal Secretary   \n",
       "2                                    Warehouse Person   \n",
       "3                   Legal Secretary / Admin Assistant   \n",
       "4                   Category Planner - Pharmaceutical   \n",
       "5   Retail Adviser 20hrs/week - Belfast Donnegal P...   \n",
       "6                                Break Press Operator   \n",
       "7                              Vehicle Paint Sprayer    \n",
       "8                                  Vehicle Technician   \n",
       "9                                     LEGAL SECRETARY   \n",
       "10           Sales Executive (Automotive Main Dealer)   \n",
       "11         Commercial Property Solicitor, North Yorks   \n",
       "12                            Assistant Store Manager   \n",
       "13   Buying, Merchandising & Design Support Assistant   \n",
       "14                                HR Business Partner   \n",
       "\n",
       "                             job_type  post_date  \\\n",
       "0                Permanent, full-time  3/12/2018   \n",
       "1                Permanent, full-time   3/8/2018   \n",
       "2                Permanent, full-time  2/27/2018   \n",
       "3   Permanent, full-time or part-time  2/21/2018   \n",
       "4                Permanent, full-time   3/1/2018   \n",
       "5                Permanent, part-time  3/12/2018   \n",
       "6                Permanent, full-time  2/28/2018   \n",
       "7                Permanent, full-time   3/2/2018   \n",
       "8                Permanent, full-time  2/28/2018   \n",
       "9                Permanent, full-time  3/12/2018   \n",
       "10               Permanent, full-time  3/12/2018   \n",
       "11               Permanent, full-time  3/12/2018   \n",
       "12               Permanent, full-time   3/6/2018   \n",
       "13               Permanent, full-time  2/28/2018   \n",
       "14                Contract, full-time   3/7/2018   \n",
       "\n",
       "                                 salary_offered               state  \n",
       "0                            £18,323 per annum                Devon  \n",
       "1                  £18,000 - £22,000 per annum            Wiltshire  \n",
       "2                         Salary not specified          East Anglia  \n",
       "3        £15,000 - £17,000 per annum, pro-rata          West Sussex  \n",
       "4                  £37,000 - £45,000 per annum   South East England  \n",
       "5               £9,100 - £9,152 per annum, OTE        County Antrim  \n",
       "6                      £9.25 - £10.15 per hour              Norfolk  \n",
       "7                  £35,000 - £40,000 per annum         Bedfordshire  \n",
       "8                  £23,000 - £26,600 per annum           Lancashire  \n",
       "9    £18,000 - £25,000 per annum, inc benefits       West Yorkshire  \n",
       "10            £12,000 - £40,000 per annum, OTE         Warwickshire  \n",
       "11                 £30,000 - £40,000 per annum       West Yorkshire  \n",
       "12                          Competitive salary        Hertfordshire  \n",
       "13                          Competitive salary   South East England  \n",
       "14                           £44,000 per annum              Cumbria  "
      ]
     },
     "execution_count": 4,
     "metadata": {},
     "output_type": "execute_result"
    }
   ],
   "source": [
    "df.head(15)"
   ]
  },
  {
   "cell_type": "code",
   "execution_count": 83,
   "id": "9f7d4a2d",
   "metadata": {},
   "outputs": [
    {
     "name": "stdout",
     "output_type": "stream",
     "text": [
      "<class 'pandas.core.frame.DataFrame'>\n",
      "RangeIndex: 50000 entries, 0 to 49999\n",
      "Data columns (total 12 columns):\n",
      " #   Column            Non-Null Count  Dtype \n",
      "---  ------            --------------  ----- \n",
      " 0   category          50000 non-null  object\n",
      " 1   city              50000 non-null  object\n",
      " 2   company_name      50000 non-null  object\n",
      " 3   geo               50000 non-null  object\n",
      " 4   job_board         50000 non-null  object\n",
      " 5   job_description   50000 non-null  object\n",
      " 6   job_requirements  20548 non-null  object\n",
      " 7   job_title         50000 non-null  object\n",
      " 8   job_type          50000 non-null  object\n",
      " 9   post_date         50000 non-null  object\n",
      " 10  salary_offered    50000 non-null  object\n",
      " 11  state             49980 non-null  object\n",
      "dtypes: object(12)\n",
      "memory usage: 4.6+ MB\n"
     ]
    }
   ],
   "source": [
    "df.info()"
   ]
  },
  {
   "cell_type": "markdown",
   "id": "e48f7b2c",
   "metadata": {},
   "source": [
    "At a first glance, we notice that the row column job_requirements contains less than half of the total records non-null values. These job offers may be considered internships or jobs for novice and could be later analyzed to see the distribution of the job offers by categories and/or location.\n",
    "\n",
    "Additionally, There are 20 states missing in the records that must be filled with a value, such as \"Other\"."
   ]
  },
  {
   "cell_type": "code",
   "execution_count": 85,
   "id": "5cc66a5c",
   "metadata": {},
   "outputs": [
    {
     "name": "stdout",
     "output_type": "stream",
     "text": [
      "['uk']\n"
     ]
    }
   ],
   "source": [
    "# Checking country values\n",
    "countries = df.geo\n",
    "print(countries.unique())"
   ]
  },
  {
   "cell_type": "markdown",
   "id": "f7b5cd8a",
   "metadata": {},
   "source": [
    "uk is the only country listed, it can be ignored in the graph"
   ]
  },
  {
   "cell_type": "code",
   "execution_count": 7,
   "id": "67056cb5",
   "metadata": {},
   "outputs": [
    {
     "name": "stdout",
     "output_type": "stream",
     "text": [
      "['reed']\n"
     ]
    }
   ],
   "source": [
    "job_board = df.job_board\n",
    "print(job_board.unique())"
   ]
  },
  {
   "cell_type": "markdown",
   "id": "615de892",
   "metadata": {},
   "source": [
    "reed is the only value in the job_board column, it can be ignored in the graph"
   ]
  },
  {
   "cell_type": "code",
   "execution_count": 86,
   "id": "bc68bf5b",
   "metadata": {},
   "outputs": [
    {
     "name": "stdout",
     "output_type": "stream",
     "text": [
      "health jobs                           1930\n",
      "education jobs                        1898\n",
      "it jobs                               1890\n",
      "logistics jobs                        1885\n",
      "construction property jobs            1859\n",
      "engineering jobs                      1858\n",
      "accountancy jobs                      1856\n",
      "sales jobs                            1855\n",
      "accountancy qualified jobs            1836\n",
      "social care jobs                      1823\n",
      "admin secretarial pa jobs             1799\n",
      "finance jobs                          1793\n",
      "factory jobs                          1755\n",
      "recruitment consultancy jobs          1747\n",
      "motoring automotive jobs              1578\n",
      "retail jobs                           1559\n",
      "customer service jobs                 1548\n",
      "catering jobs                         1536\n",
      "law jobs                              1535\n",
      "marketing jobs                        1463\n",
      "other jobs                            1452\n",
      "hr jobs                               1366\n",
      "banking jobs                          1097\n",
      "science jobs                          1071\n",
      "purchasing jobs                       1045\n",
      "fmcg jobs                             1018\n",
      "graduate training internships jobs    1003\n",
      "leisure tourism jobs                   954\n",
      "charity jobs                           939\n",
      "media digital creative jobs            915\n",
      "estate agent jobs                      905\n",
      "general insurance jobs                 854\n",
      "strategy consultancy jobs              785\n",
      "security safety jobs                   660\n",
      "energy jobs                            650\n",
      "training jobs                          161\n",
      "apprenticeships jobs                   122\n",
      "Name: category, dtype: int64\n"
     ]
    }
   ],
   "source": [
    "categories = df.category\n",
    "unique_categories = categories.unique()\n",
    "print(categories.value_counts().sort_values(ascending=False))"
   ]
  },
  {
   "cell_type": "code",
   "execution_count": 87,
   "id": "7ade309f",
   "metadata": {},
   "outputs": [
    {
     "name": "stdout",
     "output_type": "stream",
     "text": [
      "There are 37 unique categories in the dataset\n"
     ]
    }
   ],
   "source": [
    "print(\"There are %d unique categories in the dataset\" % unique_categories.size)"
   ]
  },
  {
   "cell_type": "code",
   "execution_count": 88,
   "id": "6cf000a4",
   "metadata": {},
   "outputs": [
    {
     "name": "stdout",
     "output_type": "stream",
     "text": [
      "Administrator               162\n",
      "Customer Service Advisor    145\n",
      "Management Accountant       139\n",
      "Warehouse Operative         131\n",
      "Recruitment Consultant      120\n",
      "Buyer                       111\n",
      "Account Manager             111\n",
      "Care Assistant              111\n",
      "Vehicle Technician          108\n",
      "Support Worker              107\n",
      "Sales Executive             102\n",
      "Accounts Assistant          101\n",
      "Finance Manager              99\n",
      "HR Administrator             94\n",
      "Project Manager              89\n",
      "Name: job_title, dtype: int64\n"
     ]
    }
   ],
   "source": [
    "# Check how many unique job titles are there in the dataset and its count\n",
    "num_unique_titles = df.job_title.unique().size\n",
    "print(df.job_title.value_counts()[:15].sort_values(ascending=False))"
   ]
  },
  {
   "cell_type": "code",
   "execution_count": 10,
   "id": "d87bc076",
   "metadata": {},
   "outputs": [
    {
     "name": "stdout",
     "output_type": "stream",
     "text": [
      "----------------------------\n",
      "There are 5166 unique companies\n",
      "Hays Specialist Recruitment Limited                 1830\n",
      "Reed                                                 804\n",
      "Search Consultancy                                   534\n",
      "Pareto                                               450\n",
      "Adecco UK Limited                                    355\n",
      "SW6 Associates Ltd                                   302\n",
      "Randstad Construction, Property and Engineering      287\n",
      "Rise Technical Recruitment Limited                   280\n",
      "Interaction Recruitment                              267\n",
      "Reed Accountancy                                     266\n",
      "G2 Legal Limited                                     223\n",
      "Auto Skills UK                                       215\n",
      "ESG Recruitment                                      196\n",
      "Page Personnel Finance                               193\n",
      "Reed Insurance                                       185\n",
      "Name: company_name, dtype: int64\n"
     ]
    }
   ],
   "source": [
    "print(\"----------------------------\")\n",
    "# Checking how many unique companies are there in the dataset\n",
    "companies = df.company_name\n",
    "print(\"There are %d unique companies\" % len(companies.unique()))\n",
    "print(companies.value_counts()[:15].sort_values(ascending=False))"
   ]
  },
  {
   "cell_type": "code",
   "execution_count": 89,
   "id": "eee489ef",
   "metadata": {},
   "outputs": [
    {
     "name": "stdout",
     "output_type": "stream",
     "text": [
      "There are 29155 unique job titles\n"
     ]
    }
   ],
   "source": [
    "print(\"There are %d unique job titles\" % num_unique_titles)"
   ]
  },
  {
   "cell_type": "code",
   "execution_count": 41,
   "id": "3432c393",
   "metadata": {},
   "outputs": [
    {
     "name": "stdout",
     "output_type": "stream",
     "text": [
      "14887\n"
     ]
    },
    {
     "data": {
      "text/plain": [
       "  Recruitment                                                                                                                                                                             123\n",
       "  Customer Service                                                                                                                                                                         84\n",
       "  Buying Category Procurement Purchase Purchasing Sourcing Supply Chain Buyer Purchaser                                                                                                    59\n",
       "  Sales                                                                                                                                                                                    52\n",
       "  QTS                                                                                                                                                                                      46\n",
       "  Mobile Patrol Security SIA retail SIA Licence Security Officer Door Supervisor security guard Retail Security Officer retail security Door Steward Retail Mobile Relief Store Guard      43\n",
       "  HGV C+E licence LGV 1 Class 1 driver lorry driver                                                                                                                                        42\n",
       "  Graduate. Sales. Training. Trainee Graduate Trainee Executive                                                                                                                            33\n",
       "  Closing Cold Calling Direct Sales Lead Generation Telesales                                                                                                                              31\n",
       "  Apprenticeship                                                                                                                                                                           28\n",
       "  Appointments Commission Consultative Sales Sales Representative Selling                                                                                                                  28\n",
       "  Call Centre Retail Sales Representative Customer service Sales Assistant                                                                                                                 25\n",
       "  Restaurant Supervisor Team Leader Manager Assistant Manager food pub gastro bar branded Pub management beverage career progression gastropub traditional managed pub                     24\n",
       "  Security retail Security Officer security guard Retail Security Officer retail security Retail Mobile Relief                                                                             23\n",
       "  Guarding Loss Prevention Retail Security SIA Security Guarding                                                                                                                           22\n",
       "Name: job_requirements, dtype: int64"
      ]
     },
     "execution_count": 41,
     "metadata": {},
     "output_type": "execute_result"
    }
   ],
   "source": [
    "# Checking skills values\n",
    "requirements = df.job_requirements\n",
    "requirements_not_null = requirements[requirements.notnull()].apply(lambda req: req.replace(\"Required skills\", \"\"))\n",
    "print(requirements_not_null.unique().size)\n",
    "requirements_not_null.value_counts()[:15].sort_values(ascending=False)"
   ]
  },
  {
   "cell_type": "markdown",
   "id": "4d58a723",
   "metadata": {},
   "source": [
    "There are 20548 skills required for differents jobs, but only 14887 are unique. The words Required Skills can be ignored."
   ]
  },
  {
   "cell_type": "markdown",
   "id": "3e9f4c68",
   "metadata": {},
   "source": [
    "# NEO4J PRE-VISUALIZATION"
   ]
  },
  {
   "cell_type": "markdown",
   "id": "3839f068",
   "metadata": {},
   "source": [
    "We use Neo4J as a Graph Database to have a better understanding of the relationships formed between different Job Offers. Many techniques of social network analysis can be implemented to get insights about the database and to offer better job suggestions while using Torre."
   ]
  },
  {
   "cell_type": "code",
   "execution_count": 2,
   "id": "9c37bdca",
   "metadata": {},
   "outputs": [],
   "source": [
    "from py2neo import Graph, Node, Relationship"
   ]
  },
  {
   "cell_type": "code",
   "execution_count": 3,
   "id": "63770482",
   "metadata": {},
   "outputs": [],
   "source": [
    "graph = Graph(\"bolt://localhost:7687\", auth=('neo4j', 'password'))"
   ]
  },
  {
   "cell_type": "code",
   "execution_count": null,
   "id": "cf043c68",
   "metadata": {},
   "outputs": [],
   "source": [
    "graph.delete_all()\n",
    "\n",
    "graph.run(\"CREATE CONSTRAINT ON (co:Company) ASSERT co.name IS UNIQUE\")\n",
    "graph.run(\"CREATE CONSTRAINT ON (jr:JobRequirement) ASSERT jr.name IS UNIQUE\")\n",
    "graph.run(\"CREATE CONSTRAINT ON (jt:JobTitle) ASSERT jt.name IS UNIQUE\")\n",
    "graph.run(\"CREATE CONSTRAINT ON (ct:City) ASSERT ct.name IS UNIQUE\")\n",
    "graph.run(\"CREATE CONSTRAINT ON (st:State) ASSERT st.name IS UNIQUE\")\n",
    "graph.run(\"CREATE CONSTRAINT ON (cat:Category) ASSERT cat.name IS UNIQUE\")"
   ]
  },
  {
   "cell_type": "markdown",
   "id": "4cddac4a",
   "metadata": {},
   "source": [
    "We define the graph constraints so that there is no repeated values when merging new nodes into the graph."
   ]
  },
  {
   "cell_type": "code",
   "execution_count": 64,
   "id": "328da854",
   "metadata": {},
   "outputs": [],
   "source": [
    "for index, row in df.iterrows():\n",
    "    job_title = Node(\"JobTitle\", name=row.job_title.lower())\n",
    "    job_title.__primarylabel__ = \"JobTitle\"\n",
    "    job_title.__primarykey__ = \"name\"\n",
    "    graph.merge(job_title)\n",
    "    \n",
    "    job_offer = Node(\"Job Offer\", name=row.job_description, job_type=row.job_type,salary=row.salary_offered)\n",
    "    job_offer.__primarylabel__ = \"Job Offer\"\n",
    "    job_offer.__primarykey__ = \"name\"\n",
    "    graph.merge(job_offer)\n",
    "    \n",
    "    graph.merge(Relationship(job_title, \"HAS\", job_offer))\n",
    "    \n",
    "    category = Node(\"Category\", name=row.category.lower())\n",
    "    category.__primarylabel__ = \"Category\"\n",
    "    category.__primarykey__ = \"name\"\n",
    "    graph.merge(category)\n",
    "    \n",
    "    graph.merge(Relationship(job_title, \"BELONGS TO\", category))\n",
    "    \n",
    "    city = Node(\"City\", name=row.city.lower())\n",
    "    city.__primarylabel__ = \"City\"\n",
    "    city.__primarykey__ = \"name\"\n",
    "    graph.merge(city)\n",
    "    \n",
    "    # Some States are NaN\n",
    "    raw_state = row.state\n",
    "    if not pd.isna(raw_state):\n",
    "        state = Node(\"State\", name=row.state.lower())\n",
    "    else:\n",
    "        state = state = Node(\"State\", name=\"other\")\n",
    "        \n",
    "    state.__primarylabel__ = \"State\"\n",
    "    state.__primarykey__ = \"name\"\n",
    "    graph.merge(state)\n",
    "    \n",
    "    graph.merge(Relationship(city, \"LOCATED IN\", state))\n",
    "    graph.merge(Relationship(job_offer, \"OFFERED IN\", city))\n",
    "    \n",
    "    company = Node(\"Company\", name=row.company_name.lower())\n",
    "    company.__primarylabel__ = \"Company\"\n",
    "    company.__primarykey__ = \"name\"\n",
    "    graph.merge(company)\n",
    "    \n",
    "    graph.merge(Relationship(job_offer, \"OFFERED BY\", company))\n",
    "    \n",
    "    raw_job_requirement = row.job_requirements\n",
    "    if not pd.isna(raw_job_requirement):\n",
    "        job_requirement = Node(\"JobRequirement\", name=raw_job_requirement.lower().replace(\"required skills\", \"\"))\n",
    "        job_requirement.__primarylabel__ = \"JobRequirement\"\n",
    "        job_requirement.__primarykey__ = \"name\"\n",
    "        graph.merge(job_requirement)\n",
    "        \n",
    "        graph.merge(Relationship(job_offer, \"REQUIRES\", job_requirement))"
   ]
  },
  {
   "cell_type": "code",
   "execution_count": 57,
   "id": "0e973f30",
   "metadata": {},
   "outputs": [],
   "source": [
    "%matplotlib inline\n",
    "import matplotlib.pyplot as plt"
   ]
  },
  {
   "cell_type": "code",
   "execution_count": 97,
   "id": "bccccee2",
   "metadata": {},
   "outputs": [],
   "source": [
    "query = \"\"\"\n",
    "MATCH (jt:JobTitle)-[r: `BELONGS TO`]->(ct:Category)\n",
    "RETURN jt.name AS name, count(*) AS count\n",
    "\"\"\"\n",
    "result = graph.run(query).data()"
   ]
  },
  {
   "cell_type": "code",
   "execution_count": 98,
   "id": "08f94bd4",
   "metadata": {},
   "outputs": [
    {
     "name": "stdout",
     "output_type": "stream",
     "text": [
      "                                                  name  count\n",
      "2514                      business development manager     18\n",
      "216                                    account manager     18\n",
      "2010                                   project manager     17\n",
      "789                                 operations manager     16\n",
      "2605                                     administrator     15\n",
      "...                                                ...    ...\n",
      "10038  healthcare scientist team manager bms 2 2 posts      1\n",
      "10037                       advisor - child protection      1\n",
      "10036                                  pharmacist bank      1\n",
      "10035                         patient access assistant      1\n",
      "28701                          social media specialist      1\n",
      "\n",
      "[28702 rows x 2 columns]\n"
     ]
    }
   ],
   "source": [
    "result_df = pd.DataFrame(result).sort_values(by=[\"count\"], ascending=False)\n",
    "print(result_df)"
   ]
  },
  {
   "cell_type": "markdown",
   "id": "709fd5b7",
   "metadata": {},
   "source": [
    "The job titles that belong to more categories. It can reflect which job titles are more likely to have more requirement skills in common to others."
   ]
  },
  {
   "cell_type": "code",
   "execution_count": 99,
   "id": "6bd31dda",
   "metadata": {},
   "outputs": [
    {
     "data": {
      "image/png": "[encoded data removed]",
      "text/plain": [
       "<Figure size 432x288 with 1 Axes>"
      ]
     },
     "metadata": {
      "needs_background": "light"
     },
     "output_type": "display_data"
    }
   ],
   "source": [
    "jobs_with_more_categories = result_df.iloc[:10,:].plot.bar(x=\"name\",rot=90)"
   ]
  },
  {
   "cell_type": "code",
   "execution_count": 78,
   "id": "582511bb",
   "metadata": {},
   "outputs": [],
   "source": [
    "query2 = \"\"\"\n",
    "MATCH (jt1:JobTitle)-[:`BELONGS TO`]->(ct:Category),\n",
    "      (jt1)-[:HAS]-> (jo: `Job Offer`) -[:REQUIRES]->(jr1:JobRequirement),\n",
    "      (jt2:JobTitle)-[:`BELONGS TO`]->(ct),\n",
    "      (jt2)-[:HAS]-> (jo2:`Job Offer`) -[:REQUIRES]->(jr1)\n",
    "WHERE ct.name = $name AND jt1.name < jt2.name\n",
    "RETURN jt1.name AS JobTitle1, jt2.name as JobTitle2, count(*) as CommonSkills\n",
    "\"\"\"\n",
    "result2 = graph.run(query2, name=\"catering jobs\").data()"
   ]
  },
  {
   "cell_type": "code",
   "execution_count": 79,
   "id": "4f4c6c64",
   "metadata": {},
   "outputs": [
    {
     "name": "stdout",
     "output_type": "stream",
     "text": [
      "                                            JobTitle1  \\\n",
      "70                                  assistant manager   \n",
      "28                                  assistant manager   \n",
      "126                                 assistant manager   \n",
      "202                                 assistant manager   \n",
      "121                                 assistant manager   \n",
      "..                                                ...   \n",
      "96                   assistant manager - spread eagle   \n",
      "97                     assistant manager- oxon priory   \n",
      "98   assistant manager - fox and crown, flaming grill   \n",
      "99                          assistant manager, dundee   \n",
      "256                       head chef / kitchen manager   \n",
      "\n",
      "                            JobTitle2  CommonSkills  \n",
      "70       assistant manager- sun hotel             8  \n",
      "28    assistant manager- rose revived             8  \n",
      "126    assistant manager- oxon priory             8  \n",
      "202     assistant manager- robin hood             8  \n",
      "121  assistant manager - spread eagle             8  \n",
      "..                                ...           ...  \n",
      "96      assistant manager-brig o' don             1  \n",
      "97      assistant manager-brig o' don             1  \n",
      "98      assistant manager-brig o' don             1  \n",
      "99      assistant manager-brig o' don             1  \n",
      "256                   kitchen manager             1  \n",
      "\n",
      "[257 rows x 3 columns]\n"
     ]
    }
   ],
   "source": [
    "result_df2 = pd.DataFrame(result2).sort_values(by=[\"CommonSkills\"], ascending=False)\n",
    "print(result_df2)"
   ]
  },
  {
   "cell_type": "markdown",
   "id": "7aa78f4b",
   "metadata": {},
   "source": [
    "One approach to consider if two job offers are connected is by analyzing how many skills or job requirements they have in common. Job Titles that have more Job Requirements in common may suggest a better grade of compatiblity between them .By defining a category or city, this can result in better job suggestions when applying to one job. Clustering by cities can improve even more the suggestions accuracy."
   ]
  },
  {
   "cell_type": "code",
   "execution_count": 75,
   "id": "56ef5ba6",
   "metadata": {},
   "outputs": [],
   "source": [
    "query3 = \"\"\"\n",
    "MATCH (jt1:JobTitle)-[:`BELONGS TO`]->(ct1:Category),\n",
    "      (jt1)-[:`BELONGS TO`]->(ct2:Category)\n",
    "WHERE ct1.name < ct2.name \n",
    "RETURN ct1.name AS Category1, ct2.name as Category2, count(*) as CommonJobTitles\n",
    "\"\"\"\n",
    "result3 = graph.run(query3).data()"
   ]
  },
  {
   "cell_type": "code",
   "execution_count": 96,
   "id": "5c0fdf38",
   "metadata": {},
   "outputs": [
    {
     "name": "stdout",
     "output_type": "stream",
     "text": [
      "                      Category1                    Category2  CommonJobTitles\n",
      "276            engineering jobs                 factory jobs               90\n",
      "342            accountancy jobs   accountancy qualified jobs               59\n",
      "108              marketing jobs  media digital creative jobs               56\n",
      "60                 factory jobs                    fmcg jobs               56\n",
      "260  construction property jobs             engineering jobs               52\n",
      "49                 factory jobs               logistics jobs               47\n",
      "193                 health jobs             social care jobs               47\n",
      "308   admin secretarial pa jobs        customer service jobs               42\n",
      "145       customer service jobs                   sales jobs               42\n",
      "500                banking jobs                 finance jobs               36\n",
      "345            accountancy jobs                 finance jobs               36\n",
      "55                 factory jobs                   other jobs               36\n",
      "294            engineering jobs                    fmcg jobs               35\n",
      "531                   fmcg jobs               logistics jobs               35\n",
      "264  construction property jobs                   other jobs               34\n",
      "248  construction property jobs                 factory jobs               33\n",
      "168  accountancy qualified jobs                 finance jobs               31\n",
      "236                finance jobs       general insurance jobs               30\n",
      "311   admin secretarial pa jobs                 finance jobs               30\n",
      "540                   fmcg jobs              purchasing jobs               29\n"
     ]
    }
   ],
   "source": [
    "result_df3 = pd.DataFrame(result3).sort_values(by=[\"CommonJobTitles\"], ascending=False)\n",
    "print(result_df3.iloc[:20,:])"
   ]
  },
  {
   "cell_type": "markdown",
   "id": "69f51989",
   "metadata": {},
   "source": [
    "By analyzing the Graph, I noticed that sometimes a job title belongs to more than one category. We can use the same approach as before to get how related are two categories, and make more job titles suggestions between categories that are really closed to the job that was first searched."
   ]
  },
  {
   "cell_type": "markdown",
   "id": "c8e6fbef",
   "metadata": {},
   "source": [
    "# Conclusions"
   ]
  },
  {
   "cell_type": "markdown",
   "id": "9422fef7",
   "metadata": {},
   "source": [
    "Job Titles that belong to more categories may have more skills in common with others that are not commonly associated with.\n",
    "The most connected categories are Engineering and Factory Jobs, followed by Accountancy and Marketing - Media Digital Jobs.\n",
    "Further work is needed to analyze \"other jobs\" category and its main requirements, so it can fit in another category."
   ]
  },
  {
   "cell_type": "markdown",
   "id": "ddc0f194",
   "metadata": {},
   "source": [
    "# Reflections on the work done"
   ]
  },
  {
   "cell_type": "markdown",
   "id": "2cec80dd",
   "metadata": {},
   "source": [
    "Neo4J resulted in a really powerful tool to identify patterns and insights when working with networks analysis. Even though it can take a long time to create the nodes and relationships.\n",
    "I spent too much time thinking and sketching the architecture of the graph instead of trying out different architectures with small samples. I could have used that time to improve the depth of the network.\n",
    "Due to the lack of time, i did not consider relationships between Companies and Skills."
   ]
  },
  {
   "cell_type": "markdown",
   "id": "875e7838",
   "metadata": {},
   "source": [
    "# Further Work"
   ]
  },
  {
   "cell_type": "markdown",
   "id": "c8e672d7",
   "metadata": {},
   "source": [
    "The approaches I took to consider how connected are two nodes was based in a path lenght of 1. I could have used more metrics like betweeness and closeness.\n",
    "Community Detection algorithms could lead to more insights about how close job titles really are.\n",
    "When defining communities of job titles/offers, a machine learning algorithm could be trained to estimate salaries."
   ]
  }
 ],
 "metadata": {
  "kernelspec": {
   "display_name": "Python 3",
   "language": "python",
   "name": "python3"
  },
  "language_info": {
   "codemirror_mode": {
    "name": "ipython",
    "version": 3
   },
   "file_extension": ".py",
   "mimetype": "text/x-python",
   "name": "python",
   "nbconvert_exporter": "python",
   "pygments_lexer": "ipython3",
   "version": "3.7.2"
  }
 },
 "nbformat": 4,
 "nbformat_minor": 5
}
